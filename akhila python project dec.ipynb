{
 "cells": [
  {
   "cell_type": "code",
   "execution_count": 2,
   "id": "04f4f906",
   "metadata": {},
   "outputs": [],
   "source": [
    "from bs4 import BeautifulSoup\n",
    "import requests\n",
    "import pandas as pd "
   ]
  },
  {
   "cell_type": "code",
   "execution_count": 3,
   "id": "3baa6309",
   "metadata": {},
   "outputs": [],
   "source": [
    "needed_headers = {'User-Agent': \"Mozilla/5.0 (Windows NT 6.3; Win64; x64) AppleWebKit/537.36 (KHTML, like Gecko) Chrome/92.0.4515.131 Safari/537.36\"}\n",
    "response = requests.get(\"https://www.themoviedb.org/movie\")\n"
   ]
  },
  {
   "cell_type": "code",
   "execution_count": 4,
   "id": "613fb4ad",
   "metadata": {},
   "outputs": [
    {
     "data": {
      "text/plain": [
       "403"
      ]
     },
     "execution_count": 4,
     "metadata": {},
     "output_type": "execute_result"
    }
   ],
   "source": [
    "response.status_code\n"
   ]
  },
  {
   "cell_type": "code",
   "execution_count": 5,
   "id": "ff4aee03",
   "metadata": {},
   "outputs": [
    {
     "data": {
      "text/plain": [
       "3167"
      ]
     },
     "execution_count": 5,
     "metadata": {},
     "output_type": "execute_result"
    }
   ],
   "source": [
    "dwn_content = response.text\n",
    "len(dwn_content)"
   ]
  },
  {
   "cell_type": "code",
   "execution_count": 7,
   "id": "4b8296fd",
   "metadata": {},
   "outputs": [
    {
     "data": {
      "text/plain": [
       "'<!DOCTYPE html>\\n<html lang=\"en\" class=\"no-js\">\\n  <head>\\n    <title>Request Error (403) - The Movie Database (TMDb)</title>\\n    <meta http-equiv=\"X-UA-Compatible\" content=\"IE=edge\" />\\n    <meta http-equiv=\"cleartype\" content=\"on\">\\n    <meta charset=\"utf-8\">\\n    <meta name=\"robots\" content=\"noindex\">\\n    <meta name=\"mobile-web-app-capable\" content=\"yes\">\\n    <meta name=\"apple-mobile-web-app-capable\" content=\"yes\">\\n    <meta name=\"HandheldFriendly\" content=\"True\">\\n    <meta name=\"MobileOptimized\" c'"
      ]
     },
     "execution_count": 7,
     "metadata": {},
     "output_type": "execute_result"
    }
   ],
   "source": [
    "dwn_content[:500]"
   ]
  },
  {
   "cell_type": "code",
   "execution_count": 8,
   "id": "ed59ee0b",
   "metadata": {},
   "outputs": [],
   "source": [
    "test_doc = BeautifulSoup(response.text, 'html.parser')"
   ]
  },
  {
   "cell_type": "code",
   "execution_count": 9,
   "id": "d65fb859",
   "metadata": {},
   "outputs": [
    {
     "data": {
      "text/plain": [
       "bs4.BeautifulSoup"
      ]
     },
     "execution_count": 9,
     "metadata": {},
     "output_type": "execute_result"
    }
   ],
   "source": [
    "type(test_doc)"
   ]
  },
  {
   "cell_type": "code",
   "execution_count": 10,
   "id": "2e87c7d0",
   "metadata": {},
   "outputs": [
    {
     "data": {
      "text/plain": [
       "<title>Request Error (403) - The Movie Database (TMDb)</title>"
      ]
     },
     "execution_count": 10,
     "metadata": {},
     "output_type": "execute_result"
    }
   ],
   "source": [
    "test_doc.find('title')\n"
   ]
  },
  {
   "cell_type": "code",
   "execution_count": 11,
   "id": "e14476b5",
   "metadata": {},
   "outputs": [
    {
     "data": {
      "text/plain": [
       "<img height=\"60\" src=\"https://www.themoviedb.org/assets/2/apple-touch-icon-cfba7699efe7a742de25c28e08c38525f19381d31087c69e89d6bcb8e3c0ddfa.png\" width=\"60\"/>"
      ]
     },
     "execution_count": 11,
     "metadata": {},
     "output_type": "execute_result"
    }
   ],
   "source": [
    "test_doc.find('img')"
   ]
  },
  {
   "cell_type": "code",
   "execution_count": 12,
   "id": "f12b7732",
   "metadata": {},
   "outputs": [],
   "source": [
    "def get_page_content(url):\n",
    "    # In this case , we are going to give request.get function headers to avoid the Status code Error 403\n",
    "\n",
    "    get_headers = {'User-Agent': \"Mozilla/5.0 (Windows NT 6.3; Win64; x64) AppleWebKit/537.36 (KHTML, like Gecko) Chrome/92.0.4515.131 Safari/537.36\"}\n",
    "    response_page = requests.get(url, headers = get_headers )\n",
    "    # we are going to raise exception here if status code gives any value other than 200.\n",
    "    if not response_page.ok:\n",
    "        raise Exception (\"Failed to request the data. Status Code:- {}\".format(response_page.status_code))\n",
    "    else:\n",
    "        page_content = response_page.text\n",
    "        doc_page = BeautifulSoup(page_content, \"html.parser\")\n",
    "        return doc_page"
   ]
  },
  {
   "cell_type": "code",
   "execution_count": 13,
   "id": "a84c2969",
   "metadata": {},
   "outputs": [],
   "source": [
    "popular_shows_url = \"https://www.themoviedb.org/movie\"\n",
    "doc = get_page_content(popular_shows_url)"
   ]
  },
  {
   "cell_type": "code",
   "execution_count": 14,
   "id": "2a3bde14",
   "metadata": {},
   "outputs": [
    {
     "data": {
      "text/plain": [
       "'Popular Movies — The Movie Database (TMDB)'"
      ]
     },
     "execution_count": 14,
     "metadata": {},
     "output_type": "execute_result"
    }
   ],
   "source": [
    "doc.title.text"
   ]
  },
  {
   "cell_type": "code",
   "execution_count": 15,
   "id": "addc39c8",
   "metadata": {},
   "outputs": [
    {
     "data": {
      "text/plain": [
       "'Black Adam'"
      ]
     },
     "execution_count": 15,
     "metadata": {},
     "output_type": "execute_result"
    }
   ],
   "source": [
    "doc.find_all('div', {'class': 'card style_1'})[0].h2.text"
   ]
  },
  {
   "cell_type": "code",
   "execution_count": 18,
   "id": "795585f5",
   "metadata": {},
   "outputs": [
    {
     "data": {
      "text/plain": [
       "'73.0'"
      ]
     },
     "execution_count": 18,
     "metadata": {},
     "output_type": "execute_result"
    }
   ],
   "source": [
    "doc.find_all('div', {'class': 'user_score_chart'})[0]['data-percent']"
   ]
  },
  {
   "cell_type": "code",
   "execution_count": 23,
   "id": "6e12f812",
   "metadata": {},
   "outputs": [],
   "source": [
    "def empty_dict():\n",
    "    scraped_dict = {  \n",
    "                    'Title': [],\n",
    "                    'User_rating': [], \n",
    "                    'Release_date':[], \n",
    "                    'Genre': [],\n",
    "                    'Director': [], \n",
    "                     'Cast': []        \n",
    "                    }\n",
    "    return scraped_dict"
   ]
  },
  {
   "cell_type": "code",
   "execution_count": 24,
   "id": "0668648b",
   "metadata": {},
   "outputs": [],
   "source": [
    "def user_score_info(tag_user_score, i, scraped_dict):\n",
    "    if tag_user_score[i]['data-percent'] == '0':\n",
    "        scraped_dict['User_rating'].append('Not rated yet')\n",
    "    else:\n",
    "        scraped_dict['User_rating'].append(tag_user_score[i]['data-percent'])"
   ]
  },
  {
   "cell_type": "code",
   "execution_count": 25,
   "id": "587381cc",
   "metadata": {},
   "outputs": [
    {
     "data": {
      "text/plain": [
       "'/movie/436270'"
      ]
     },
     "execution_count": 25,
     "metadata": {},
     "output_type": "execute_result"
    }
   ],
   "source": [
    "doc.find_all('div', {'class': 'card style_1'})[0].h2.a['href']"
   ]
  },
  {
   "cell_type": "code",
   "execution_count": 26,
   "id": "42e79239",
   "metadata": {},
   "outputs": [],
   "source": [
    "def get_show_info(doc_page):\n",
    "    base_link_1 = \"https://www.themoviedb.org\"\n",
    "    tag_title = tag_premired_date = tag_shows_page = doc_page.find_all('div', {'class': 'card style_1'})\n",
    "    tag_user_score = doc_page.find_all('div', {\"user_score_chart\"}) \n",
    "    \n",
    "    doc_2_list = []\n",
    "    for link in tag_shows_page:\n",
    "        # here we are creating the list of all the individual pages of the shows which will come handy in other functions. \n",
    "        doc_2_list.append(get_page_content(\"https://www.themoviedb.org\" + link.h2.a['href']))\n",
    "       # we are going to have the function to return the list of all the information as elements. \n",
    "    return tag_title, tag_user_score, doc_2_list"
   ]
  },
  {
   "cell_type": "code",
   "execution_count": 27,
   "id": "64b673c4",
   "metadata": {},
   "outputs": [
    {
     "data": {
      "text/plain": [
       "3"
      ]
     },
     "execution_count": 27,
     "metadata": {},
     "output_type": "execute_result"
    }
   ],
   "source": [
    "len(get_show_info(doc))"
   ]
  },
  {
   "cell_type": "code",
   "execution_count": 28,
   "id": "a83f8506",
   "metadata": {},
   "outputs": [],
   "source": [
    "doc_2 = get_page_content(\"https://www.themoviedb.org/movie/436270\")"
   ]
  },
  {
   "cell_type": "code",
   "execution_count": 29,
   "id": "3203764a",
   "metadata": {},
   "outputs": [
    {
     "data": {
      "text/plain": [
       "['Action', 'Fantasy', 'Science Fiction']"
      ]
     },
     "execution_count": 29,
     "metadata": {},
     "output_type": "execute_result"
    }
   ],
   "source": [
    "tag_genre = doc_2.find('span', {\"class\": \"genres\"})\n",
    "tag_genre_list = tag_genre.find_all('a')\n",
    "\n",
    "check_genre =[]\n",
    "for tag in tag_genre_list:\n",
    "    check_genre.append(tag.text)\n",
    "\n",
    "check_genre"
   ]
  },
  {
   "cell_type": "code",
   "execution_count": 30,
   "id": "8e1a82d2",
   "metadata": {},
   "outputs": [],
   "source": [
    "# lets create a function to get the genres for the movie. \n",
    "# i here denotes the element of the list vairable ``doc2_page`` that contains different doc pages. Will come handy later on.\n",
    "def get_genres(doc2_page, i):\n",
    "    genres_tags = doc2_page[i].find('span', {\"class\": \"genres\"}).find_all('a')\n",
    "    check_genre =[]\n",
    "    \n",
    "    for tag in genres_tags:\n",
    "        check_genre.append(tag.text)\n",
    "    return check_genre"
   ]
  },
  {
   "cell_type": "code",
   "execution_count": 31,
   "id": "9b7402ec",
   "metadata": {},
   "outputs": [],
   "source": [
    "# i here denotes the the element of the list type variable``doc2_page`` that contains different doc pages.\n",
    "\n",
    "def get_show_Director(doc2_page, i):\n",
    "    director_tags = doc2_page[i].find_all('li', {'class': 'Director'})\n",
    "    director_list = []\n",
    "    \n",
    "    for t in director_tags:\n",
    "         director_list.append(t.p.text)\n",
    "    \n",
    "    return director_list"
   ]
  },
  {
   "cell_type": "code",
   "execution_count": 32,
   "id": "a2b298a7",
   "metadata": {},
   "outputs": [],
   "source": [
    "def get_show_cast(doc2_page, i):\n",
    "    cast_tags = doc2_page[i].find_all('li', {'class': 'card'})\n",
    "    cast_lis = []\n",
    "    \n",
    "    for t in cast_tags:\n",
    "         cast_lis.append(t.p.text)\n",
    "    \n",
    "    return cast_lis"
   ]
  },
  {
   "cell_type": "code",
   "execution_count": 33,
   "id": "06ab7623",
   "metadata": {},
   "outputs": [],
   "source": [
    "import pandas as pd\n",
    "\n",
    "def get_show_details(t_title, t_user_score, docs_2_list):\n",
    "    # excuting a function here that empties the dictionary every time the function is called.\n",
    "    scraped_dict =  empty_dict()\n",
    "    for i in range (0, len(t_title)):\n",
    "        scraped_dict['Title'].append(t_title[i].h2.text)\n",
    "        user_score_info(t_user_score, i, scraped_dict)    \n",
    "        scraped_dict['Release_date'].append(t_title[i].p.text)  \n",
    "        scraped_dict['Genre'].append(get_genres(docs_2_list, i))        \n",
    "        scraped_dict['Director'].append(get_show_Director(docs_2_list, i))\n",
    "        scraped_dict['Cast'].append(get_show_cast(docs_2_list, i))\n",
    "        \n",
    "    return pd.DataFrame(scraped_dict)"
   ]
  },
  {
   "cell_type": "code",
   "execution_count": 34,
   "id": "9924e95e",
   "metadata": {},
   "outputs": [],
   "source": [
    "tag_title_, tag_user_score_, doc_2_list_ = get_show_info(doc)"
   ]
  },
  {
   "cell_type": "code",
   "execution_count": 35,
   "id": "15fb1d3a",
   "metadata": {},
   "outputs": [],
   "source": [
    "import csv"
   ]
  },
  {
   "cell_type": "code",
   "execution_count": 37,
   "id": "d82e9ea7",
   "metadata": {},
   "outputs": [
    {
     "data": {
      "text/html": [
       "<div>\n",
       "<style scoped>\n",
       "    .dataframe tbody tr th:only-of-type {\n",
       "        vertical-align: middle;\n",
       "    }\n",
       "\n",
       "    .dataframe tbody tr th {\n",
       "        vertical-align: top;\n",
       "    }\n",
       "\n",
       "    .dataframe thead th {\n",
       "        text-align: right;\n",
       "    }\n",
       "</style>\n",
       "<table border=\"1\" class=\"dataframe\">\n",
       "  <thead>\n",
       "    <tr style=\"text-align: right;\">\n",
       "      <th></th>\n",
       "      <th>Title</th>\n",
       "      <th>User_rating</th>\n",
       "      <th>Release_date</th>\n",
       "      <th>Genre</th>\n",
       "      <th>Director</th>\n",
       "      <th>Cast</th>\n",
       "    </tr>\n",
       "  </thead>\n",
       "  <tbody>\n",
       "    <tr>\n",
       "      <th>0</th>\n",
       "      <td>Black Adam</td>\n",
       "      <td>73.0</td>\n",
       "      <td>Oct 19, 2022</td>\n",
       "      <td>['Action', 'Fantasy', 'Science Fiction']</td>\n",
       "      <td>[]</td>\n",
       "      <td>['Dwayne Johnson', 'Aldis Hodge', 'Noah Centin...</td>\n",
       "    </tr>\n",
       "    <tr>\n",
       "      <th>1</th>\n",
       "      <td>R.I.P.D. 2: Rise of the Damned</td>\n",
       "      <td>68.0</td>\n",
       "      <td>Nov 15, 2022</td>\n",
       "      <td>['Fantasy', 'Action', 'Comedy', 'Crime']</td>\n",
       "      <td>[]</td>\n",
       "      <td>['Jeffrey Donovan', 'Penelope Mitchell', 'Rich...</td>\n",
       "    </tr>\n",
       "    <tr>\n",
       "      <th>2</th>\n",
       "      <td>Paradise City</td>\n",
       "      <td>63.0</td>\n",
       "      <td>Nov 11, 2022</td>\n",
       "      <td>['Crime', 'Action', 'Thriller']</td>\n",
       "      <td>[]</td>\n",
       "      <td>['John Travolta', 'Bruce Willis', 'Blake Jenne...</td>\n",
       "    </tr>\n",
       "    <tr>\n",
       "      <th>3</th>\n",
       "      <td>Corrective Measures</td>\n",
       "      <td>50.0</td>\n",
       "      <td>Apr 29, 2022</td>\n",
       "      <td>['Science Fiction', 'Action']</td>\n",
       "      <td>[]</td>\n",
       "      <td>['Bruce Willis', 'Hayley Sales', 'Michael Rook...</td>\n",
       "    </tr>\n",
       "    <tr>\n",
       "      <th>4</th>\n",
       "      <td>Hex</td>\n",
       "      <td>43.0</td>\n",
       "      <td>Nov 01, 2022</td>\n",
       "      <td>['Action', 'Horror', 'Thriller']</td>\n",
       "      <td>[]</td>\n",
       "      <td>['Kayla Adams', 'Matthew Holcomb', 'Bryan Davi...</td>\n",
       "    </tr>\n",
       "    <tr>\n",
       "      <th>5</th>\n",
       "      <td>The Woman King</td>\n",
       "      <td>79.0</td>\n",
       "      <td>Sep 15, 2022</td>\n",
       "      <td>['Action', 'Drama', 'History']</td>\n",
       "      <td>[]</td>\n",
       "      <td>['Viola Davis', 'Thuso Mbedu', 'Lashana Lynch'...</td>\n",
       "    </tr>\n",
       "    <tr>\n",
       "      <th>6</th>\n",
       "      <td>Emily the Criminal</td>\n",
       "      <td>69.0</td>\n",
       "      <td>Aug 12, 2022</td>\n",
       "      <td>['Crime', 'Drama', 'Mystery', 'Thriller']</td>\n",
       "      <td>[]</td>\n",
       "      <td>['Aubrey Plaza', 'Theo Rossi', 'Megalyn Echiku...</td>\n",
       "    </tr>\n",
       "    <tr>\n",
       "      <th>7</th>\n",
       "      <td>Lost Bullet 2</td>\n",
       "      <td>68.0</td>\n",
       "      <td>Nov 10, 2022</td>\n",
       "      <td>['Action', 'Drama', 'Thriller']</td>\n",
       "      <td>[]</td>\n",
       "      <td>['Alban Lenoir', 'Stéfi Celma', 'Pascale Arbil...</td>\n",
       "    </tr>\n",
       "    <tr>\n",
       "      <th>8</th>\n",
       "      <td>The Minute You Wake Up Dead</td>\n",
       "      <td>49.0</td>\n",
       "      <td>Nov 04, 2022</td>\n",
       "      <td>['Thriller', 'Crime']</td>\n",
       "      <td>[]</td>\n",
       "      <td>['Cole Hauser', 'Jaimie Alexander', 'Morgan Fr...</td>\n",
       "    </tr>\n",
       "    <tr>\n",
       "      <th>9</th>\n",
       "      <td>Disenchanted</td>\n",
       "      <td>73.0</td>\n",
       "      <td>Nov 16, 2022</td>\n",
       "      <td>['Comedy', 'Family', 'Fantasy']</td>\n",
       "      <td>[]</td>\n",
       "      <td>['Amy Adams', 'Patrick Dempsey', 'Maya Rudolph...</td>\n",
       "    </tr>\n",
       "    <tr>\n",
       "      <th>10</th>\n",
       "      <td>Frank and Penelope</td>\n",
       "      <td>75.0</td>\n",
       "      <td>Jun 03, 2022</td>\n",
       "      <td>['Thriller', 'Horror', 'Crime']</td>\n",
       "      <td>[]</td>\n",
       "      <td>['Kevin Dillon', 'Sean Patrick Flanery', 'John...</td>\n",
       "    </tr>\n",
       "    <tr>\n",
       "      <th>11</th>\n",
       "      <td>Margaux</td>\n",
       "      <td>68.0</td>\n",
       "      <td>Sep 09, 2022</td>\n",
       "      <td>['Horror', 'Science Fiction']</td>\n",
       "      <td>[]</td>\n",
       "      <td>['Madison Pettis', 'Vanessa Morgan', 'Richard ...</td>\n",
       "    </tr>\n",
       "    <tr>\n",
       "      <th>12</th>\n",
       "      <td>Black Panther: Wakanda Forever</td>\n",
       "      <td>75.0</td>\n",
       "      <td>Nov 09, 2022</td>\n",
       "      <td>['Action', 'Adventure', 'Science Fiction']</td>\n",
       "      <td>[]</td>\n",
       "      <td>['Letitia Wright', \"Lupita Nyong'o\", 'Danai Gu...</td>\n",
       "    </tr>\n",
       "    <tr>\n",
       "      <th>13</th>\n",
       "      <td>Lyle, Lyle, Crocodile</td>\n",
       "      <td>77.0</td>\n",
       "      <td>Oct 07, 2022</td>\n",
       "      <td>['Comedy', 'Family', 'Music']</td>\n",
       "      <td>[]</td>\n",
       "      <td>['Winslow Fegley', 'Javier Bardem', 'Constance...</td>\n",
       "    </tr>\n",
       "    <tr>\n",
       "      <th>14</th>\n",
       "      <td>Sniper: The White Raven</td>\n",
       "      <td>75.0</td>\n",
       "      <td>May 03, 2022</td>\n",
       "      <td>['Drama', 'Action', 'War']</td>\n",
       "      <td>[]</td>\n",
       "      <td>['Pavlo Aldoshyn', 'Maryna Koshkina', 'Andrei ...</td>\n",
       "    </tr>\n",
       "    <tr>\n",
       "      <th>15</th>\n",
       "      <td>Medieval</td>\n",
       "      <td>72.0</td>\n",
       "      <td>Sep 08, 2022</td>\n",
       "      <td>['History', 'Action', 'Drama']</td>\n",
       "      <td>[]</td>\n",
       "      <td>['Ben Foster', 'Sophie Lowe', 'Michael Caine',...</td>\n",
       "    </tr>\n",
       "    <tr>\n",
       "      <th>16</th>\n",
       "      <td>Smile</td>\n",
       "      <td>68.0</td>\n",
       "      <td>Sep 23, 2022</td>\n",
       "      <td>['Horror', 'Mystery', 'Thriller']</td>\n",
       "      <td>[]</td>\n",
       "      <td>['Sosie Bacon', 'Kyle Gallner', 'Caitlin Stase...</td>\n",
       "    </tr>\n",
       "    <tr>\n",
       "      <th>17</th>\n",
       "      <td>On the Line</td>\n",
       "      <td>65.0</td>\n",
       "      <td>Oct 31, 2022</td>\n",
       "      <td>['Thriller']</td>\n",
       "      <td>[]</td>\n",
       "      <td>['Mel Gibson', 'Kevin Dillon', 'William Mosele...</td>\n",
       "    </tr>\n",
       "    <tr>\n",
       "      <th>18</th>\n",
       "      <td>Blue's Big City Adventure</td>\n",
       "      <td>75.0</td>\n",
       "      <td>Nov 18, 2022</td>\n",
       "      <td>['Family', 'Adventure', 'Music', 'Animation']</td>\n",
       "      <td>[]</td>\n",
       "      <td>['Joshua Dela Cruz', 'Steve Burns', 'Donovan P...</td>\n",
       "    </tr>\n",
       "    <tr>\n",
       "      <th>19</th>\n",
       "      <td>Slumberland</td>\n",
       "      <td>79.0</td>\n",
       "      <td>Nov 09, 2022</td>\n",
       "      <td>['Family', 'Fantasy', 'Adventure', 'Drama']</td>\n",
       "      <td>[]</td>\n",
       "      <td>['Jason Momoa', 'Marlow Barkley', \"Chris O'Dow...</td>\n",
       "    </tr>\n",
       "  </tbody>\n",
       "</table>\n",
       "</div>"
      ],
      "text/plain": [
       "                             Title  User_rating  Release_date  \\\n",
       "0                       Black Adam         73.0  Oct 19, 2022   \n",
       "1   R.I.P.D. 2: Rise of the Damned         68.0  Nov 15, 2022   \n",
       "2                    Paradise City         63.0  Nov 11, 2022   \n",
       "3              Corrective Measures         50.0  Apr 29, 2022   \n",
       "4                              Hex         43.0  Nov 01, 2022   \n",
       "5                   The Woman King         79.0  Sep 15, 2022   \n",
       "6               Emily the Criminal         69.0  Aug 12, 2022   \n",
       "7                    Lost Bullet 2         68.0  Nov 10, 2022   \n",
       "8      The Minute You Wake Up Dead         49.0  Nov 04, 2022   \n",
       "9                     Disenchanted         73.0  Nov 16, 2022   \n",
       "10              Frank and Penelope         75.0  Jun 03, 2022   \n",
       "11                         Margaux         68.0  Sep 09, 2022   \n",
       "12  Black Panther: Wakanda Forever         75.0  Nov 09, 2022   \n",
       "13           Lyle, Lyle, Crocodile         77.0  Oct 07, 2022   \n",
       "14         Sniper: The White Raven         75.0  May 03, 2022   \n",
       "15                        Medieval         72.0  Sep 08, 2022   \n",
       "16                           Smile         68.0  Sep 23, 2022   \n",
       "17                     On the Line         65.0  Oct 31, 2022   \n",
       "18       Blue's Big City Adventure         75.0  Nov 18, 2022   \n",
       "19                     Slumberland         79.0  Nov 09, 2022   \n",
       "\n",
       "                                            Genre Director  \\\n",
       "0        ['Action', 'Fantasy', 'Science Fiction']       []   \n",
       "1        ['Fantasy', 'Action', 'Comedy', 'Crime']       []   \n",
       "2                 ['Crime', 'Action', 'Thriller']       []   \n",
       "3                   ['Science Fiction', 'Action']       []   \n",
       "4                ['Action', 'Horror', 'Thriller']       []   \n",
       "5                  ['Action', 'Drama', 'History']       []   \n",
       "6       ['Crime', 'Drama', 'Mystery', 'Thriller']       []   \n",
       "7                 ['Action', 'Drama', 'Thriller']       []   \n",
       "8                           ['Thriller', 'Crime']       []   \n",
       "9                 ['Comedy', 'Family', 'Fantasy']       []   \n",
       "10                ['Thriller', 'Horror', 'Crime']       []   \n",
       "11                  ['Horror', 'Science Fiction']       []   \n",
       "12     ['Action', 'Adventure', 'Science Fiction']       []   \n",
       "13                  ['Comedy', 'Family', 'Music']       []   \n",
       "14                     ['Drama', 'Action', 'War']       []   \n",
       "15                 ['History', 'Action', 'Drama']       []   \n",
       "16              ['Horror', 'Mystery', 'Thriller']       []   \n",
       "17                                   ['Thriller']       []   \n",
       "18  ['Family', 'Adventure', 'Music', 'Animation']       []   \n",
       "19    ['Family', 'Fantasy', 'Adventure', 'Drama']       []   \n",
       "\n",
       "                                                 Cast  \n",
       "0   ['Dwayne Johnson', 'Aldis Hodge', 'Noah Centin...  \n",
       "1   ['Jeffrey Donovan', 'Penelope Mitchell', 'Rich...  \n",
       "2   ['John Travolta', 'Bruce Willis', 'Blake Jenne...  \n",
       "3   ['Bruce Willis', 'Hayley Sales', 'Michael Rook...  \n",
       "4   ['Kayla Adams', 'Matthew Holcomb', 'Bryan Davi...  \n",
       "5   ['Viola Davis', 'Thuso Mbedu', 'Lashana Lynch'...  \n",
       "6   ['Aubrey Plaza', 'Theo Rossi', 'Megalyn Echiku...  \n",
       "7   ['Alban Lenoir', 'Stéfi Celma', 'Pascale Arbil...  \n",
       "8   ['Cole Hauser', 'Jaimie Alexander', 'Morgan Fr...  \n",
       "9   ['Amy Adams', 'Patrick Dempsey', 'Maya Rudolph...  \n",
       "10  ['Kevin Dillon', 'Sean Patrick Flanery', 'John...  \n",
       "11  ['Madison Pettis', 'Vanessa Morgan', 'Richard ...  \n",
       "12  ['Letitia Wright', \"Lupita Nyong'o\", 'Danai Gu...  \n",
       "13  ['Winslow Fegley', 'Javier Bardem', 'Constance...  \n",
       "14  ['Pavlo Aldoshyn', 'Maryna Koshkina', 'Andrei ...  \n",
       "15  ['Ben Foster', 'Sophie Lowe', 'Michael Caine',...  \n",
       "16  ['Sosie Bacon', 'Kyle Gallner', 'Caitlin Stase...  \n",
       "17  ['Mel Gibson', 'Kevin Dillon', 'William Mosele...  \n",
       "18  ['Joshua Dela Cruz', 'Steve Burns', 'Donovan P...  \n",
       "19  ['Jason Momoa', 'Marlow Barkley', \"Chris O'Dow...  "
      ]
     },
     "execution_count": 37,
     "metadata": {},
     "output_type": "execute_result"
    }
   ],
   "source": [
    "x = get_show_details(tag_title_, tag_user_score_, doc_2_list_)\n",
    "x.to_csv('check.csv')\n",
    "pd.read_csv('check.csv',index_col=[0])"
   ]
  },
  {
   "cell_type": "code",
   "execution_count": 39,
   "id": "ca7484a9",
   "metadata": {},
   "outputs": [],
   "source": [
    "import os\n",
    "base_link = \"https://www.themoviedb.org/movie\"\n",
    "\n",
    "# 'i' here means the number of page we want to extract\n",
    "def create_page_df( i, dataframe_list):\n",
    "    os.makedirs('shows-data', exist_ok = True)\n",
    "    next_url = base_link + '?page={}'.format(i)\n",
    "    doc_top = get_page_content(next_url)\n",
    "    name_tag, viewer_score_tag, doc_2_lis = get_show_info(doc_top)\n",
    "    print('scraping page {} :- {}'.format(i, next_url))\n",
    "    dataframe_data = get_show_details(name_tag, viewer_score_tag, doc_2_lis)\n",
    "    dataframe_data.to_csv(\"shows-data/shows-page-{}.csv\".format(i) , index = None)\n",
    "    print(\" ---> a CSV file with name shows-page-{}.csv has been created\".format(i))\n",
    "    dataframe_list.append(dataframe_data)\n"
   ]
  },
  {
   "cell_type": "code",
   "execution_count": 40,
   "id": "ccd2ba8f",
   "metadata": {},
   "outputs": [
    {
     "name": "stdout",
     "output_type": "stream",
     "text": [
      "scraping page 50 :- https://www.themoviedb.org/movie?page=50\n",
      " ---> a CSV file with name shows-page-50.csv has been created\n"
     ]
    }
   ],
   "source": [
    "test_list = []\n",
    "create_page_df(50 , test_list)"
   ]
  },
  {
   "cell_type": "code",
   "execution_count": 41,
   "id": "0ff0296e",
   "metadata": {},
   "outputs": [],
   "source": [
    "import pandas as pd\n",
    "base_link = \"https://www.themoviedb.org/movie\"\n",
    "\n",
    "def scrape_top_1000_shows(base_link):\n",
    "    dataframe_list = []\n",
    "    # we are going to keep range up to 1001 because we just need up to 1000 movie shows for now. \n",
    "    for i in range(1,101):\n",
    "        create_page_df(i, dataframe_list)\n",
    "    # here we are using concat function so that we can merge the each dataframe that we got from the each page.    \n",
    "    total_dataframe = pd.concat(dataframe_list, ignore_index = True)\n",
    "    \n",
    "    # with the simple command of to_csv() we can create a csv file of all the pages we extracted.\n",
    "    csv_complete =  total_dataframe.to_csv('shows-data/Total-dataframe.csv', index= None)\n",
    "    print(\" \\n a CSV file named Total-dataframe.csv with all the scraped shows has been created\")"
   ]
  },
  {
   "cell_type": "code",
   "execution_count": 42,
   "id": "f80436f3",
   "metadata": {},
   "outputs": [
    {
     "name": "stdout",
     "output_type": "stream",
     "text": [
      "scraping page 1 :- https://www.themoviedb.org/movie?page=1\n",
      " ---> a CSV file with name shows-page-1.csv has been created\n",
      "scraping page 2 :- https://www.themoviedb.org/movie?page=2\n",
      " ---> a CSV file with name shows-page-2.csv has been created\n",
      "scraping page 3 :- https://www.themoviedb.org/movie?page=3\n",
      " ---> a CSV file with name shows-page-3.csv has been created\n",
      "scraping page 4 :- https://www.themoviedb.org/movie?page=4\n",
      " ---> a CSV file with name shows-page-4.csv has been created\n",
      "scraping page 5 :- https://www.themoviedb.org/movie?page=5\n",
      " ---> a CSV file with name shows-page-5.csv has been created\n",
      "scraping page 6 :- https://www.themoviedb.org/movie?page=6\n",
      " ---> a CSV file with name shows-page-6.csv has been created\n",
      "scraping page 7 :- https://www.themoviedb.org/movie?page=7\n",
      " ---> a CSV file with name shows-page-7.csv has been created\n",
      "scraping page 8 :- https://www.themoviedb.org/movie?page=8\n",
      " ---> a CSV file with name shows-page-8.csv has been created\n",
      "scraping page 9 :- https://www.themoviedb.org/movie?page=9\n",
      " ---> a CSV file with name shows-page-9.csv has been created\n",
      "scraping page 10 :- https://www.themoviedb.org/movie?page=10\n",
      " ---> a CSV file with name shows-page-10.csv has been created\n",
      "scraping page 11 :- https://www.themoviedb.org/movie?page=11\n",
      " ---> a CSV file with name shows-page-11.csv has been created\n",
      "scraping page 12 :- https://www.themoviedb.org/movie?page=12\n",
      " ---> a CSV file with name shows-page-12.csv has been created\n",
      "scraping page 13 :- https://www.themoviedb.org/movie?page=13\n",
      " ---> a CSV file with name shows-page-13.csv has been created\n",
      "scraping page 14 :- https://www.themoviedb.org/movie?page=14\n",
      " ---> a CSV file with name shows-page-14.csv has been created\n",
      "scraping page 15 :- https://www.themoviedb.org/movie?page=15\n",
      " ---> a CSV file with name shows-page-15.csv has been created\n",
      "scraping page 16 :- https://www.themoviedb.org/movie?page=16\n",
      " ---> a CSV file with name shows-page-16.csv has been created\n",
      "scraping page 17 :- https://www.themoviedb.org/movie?page=17\n",
      " ---> a CSV file with name shows-page-17.csv has been created\n",
      "scraping page 18 :- https://www.themoviedb.org/movie?page=18\n",
      " ---> a CSV file with name shows-page-18.csv has been created\n",
      "scraping page 19 :- https://www.themoviedb.org/movie?page=19\n",
      " ---> a CSV file with name shows-page-19.csv has been created\n",
      "scraping page 20 :- https://www.themoviedb.org/movie?page=20\n",
      " ---> a CSV file with name shows-page-20.csv has been created\n",
      "scraping page 21 :- https://www.themoviedb.org/movie?page=21\n",
      " ---> a CSV file with name shows-page-21.csv has been created\n",
      "scraping page 22 :- https://www.themoviedb.org/movie?page=22\n",
      " ---> a CSV file with name shows-page-22.csv has been created\n",
      "scraping page 23 :- https://www.themoviedb.org/movie?page=23\n",
      " ---> a CSV file with name shows-page-23.csv has been created\n",
      "scraping page 24 :- https://www.themoviedb.org/movie?page=24\n",
      " ---> a CSV file with name shows-page-24.csv has been created\n",
      "scraping page 25 :- https://www.themoviedb.org/movie?page=25\n",
      " ---> a CSV file with name shows-page-25.csv has been created\n",
      "scraping page 26 :- https://www.themoviedb.org/movie?page=26\n",
      " ---> a CSV file with name shows-page-26.csv has been created\n",
      "scraping page 27 :- https://www.themoviedb.org/movie?page=27\n",
      " ---> a CSV file with name shows-page-27.csv has been created\n",
      "scraping page 28 :- https://www.themoviedb.org/movie?page=28\n",
      " ---> a CSV file with name shows-page-28.csv has been created\n",
      "scraping page 29 :- https://www.themoviedb.org/movie?page=29\n",
      " ---> a CSV file with name shows-page-29.csv has been created\n",
      "scraping page 30 :- https://www.themoviedb.org/movie?page=30\n",
      " ---> a CSV file with name shows-page-30.csv has been created\n",
      "scraping page 31 :- https://www.themoviedb.org/movie?page=31\n",
      " ---> a CSV file with name shows-page-31.csv has been created\n",
      "scraping page 32 :- https://www.themoviedb.org/movie?page=32\n",
      " ---> a CSV file with name shows-page-32.csv has been created\n",
      "scraping page 33 :- https://www.themoviedb.org/movie?page=33\n",
      " ---> a CSV file with name shows-page-33.csv has been created\n",
      "scraping page 34 :- https://www.themoviedb.org/movie?page=34\n",
      " ---> a CSV file with name shows-page-34.csv has been created\n",
      "scraping page 35 :- https://www.themoviedb.org/movie?page=35\n",
      " ---> a CSV file with name shows-page-35.csv has been created\n",
      "scraping page 36 :- https://www.themoviedb.org/movie?page=36\n",
      " ---> a CSV file with name shows-page-36.csv has been created\n",
      "scraping page 37 :- https://www.themoviedb.org/movie?page=37\n",
      " ---> a CSV file with name shows-page-37.csv has been created\n",
      "scraping page 38 :- https://www.themoviedb.org/movie?page=38\n",
      " ---> a CSV file with name shows-page-38.csv has been created\n",
      "scraping page 39 :- https://www.themoviedb.org/movie?page=39\n",
      " ---> a CSV file with name shows-page-39.csv has been created\n",
      "scraping page 40 :- https://www.themoviedb.org/movie?page=40\n",
      " ---> a CSV file with name shows-page-40.csv has been created\n",
      "scraping page 41 :- https://www.themoviedb.org/movie?page=41\n",
      " ---> a CSV file with name shows-page-41.csv has been created\n",
      "scraping page 42 :- https://www.themoviedb.org/movie?page=42\n",
      " ---> a CSV file with name shows-page-42.csv has been created\n",
      "scraping page 43 :- https://www.themoviedb.org/movie?page=43\n",
      " ---> a CSV file with name shows-page-43.csv has been created\n",
      "scraping page 44 :- https://www.themoviedb.org/movie?page=44\n",
      " ---> a CSV file with name shows-page-44.csv has been created\n",
      "scraping page 45 :- https://www.themoviedb.org/movie?page=45\n",
      " ---> a CSV file with name shows-page-45.csv has been created\n",
      "scraping page 46 :- https://www.themoviedb.org/movie?page=46\n",
      " ---> a CSV file with name shows-page-46.csv has been created\n",
      "scraping page 47 :- https://www.themoviedb.org/movie?page=47\n",
      " ---> a CSV file with name shows-page-47.csv has been created\n",
      "scraping page 48 :- https://www.themoviedb.org/movie?page=48\n",
      " ---> a CSV file with name shows-page-48.csv has been created\n",
      "scraping page 49 :- https://www.themoviedb.org/movie?page=49\n",
      " ---> a CSV file with name shows-page-49.csv has been created\n",
      "scraping page 50 :- https://www.themoviedb.org/movie?page=50\n",
      " ---> a CSV file with name shows-page-50.csv has been created\n",
      "scraping page 51 :- https://www.themoviedb.org/movie?page=51\n",
      " ---> a CSV file with name shows-page-51.csv has been created\n",
      "scraping page 52 :- https://www.themoviedb.org/movie?page=52\n",
      " ---> a CSV file with name shows-page-52.csv has been created\n",
      "scraping page 53 :- https://www.themoviedb.org/movie?page=53\n",
      " ---> a CSV file with name shows-page-53.csv has been created\n",
      "scraping page 54 :- https://www.themoviedb.org/movie?page=54\n",
      " ---> a CSV file with name shows-page-54.csv has been created\n",
      "scraping page 55 :- https://www.themoviedb.org/movie?page=55\n",
      " ---> a CSV file with name shows-page-55.csv has been created\n",
      "scraping page 56 :- https://www.themoviedb.org/movie?page=56\n",
      " ---> a CSV file with name shows-page-56.csv has been created\n",
      "scraping page 57 :- https://www.themoviedb.org/movie?page=57\n",
      " ---> a CSV file with name shows-page-57.csv has been created\n",
      "scraping page 58 :- https://www.themoviedb.org/movie?page=58\n",
      " ---> a CSV file with name shows-page-58.csv has been created\n",
      "scraping page 59 :- https://www.themoviedb.org/movie?page=59\n",
      " ---> a CSV file with name shows-page-59.csv has been created\n",
      "scraping page 60 :- https://www.themoviedb.org/movie?page=60\n",
      " ---> a CSV file with name shows-page-60.csv has been created\n",
      "scraping page 61 :- https://www.themoviedb.org/movie?page=61\n",
      " ---> a CSV file with name shows-page-61.csv has been created\n",
      "scraping page 62 :- https://www.themoviedb.org/movie?page=62\n",
      " ---> a CSV file with name shows-page-62.csv has been created\n",
      "scraping page 63 :- https://www.themoviedb.org/movie?page=63\n",
      " ---> a CSV file with name shows-page-63.csv has been created\n",
      "scraping page 64 :- https://www.themoviedb.org/movie?page=64\n",
      " ---> a CSV file with name shows-page-64.csv has been created\n",
      "scraping page 65 :- https://www.themoviedb.org/movie?page=65\n",
      " ---> a CSV file with name shows-page-65.csv has been created\n",
      "scraping page 66 :- https://www.themoviedb.org/movie?page=66\n",
      " ---> a CSV file with name shows-page-66.csv has been created\n",
      "scraping page 67 :- https://www.themoviedb.org/movie?page=67\n",
      " ---> a CSV file with name shows-page-67.csv has been created\n"
     ]
    },
    {
     "name": "stdout",
     "output_type": "stream",
     "text": [
      "scraping page 68 :- https://www.themoviedb.org/movie?page=68\n",
      " ---> a CSV file with name shows-page-68.csv has been created\n",
      "scraping page 69 :- https://www.themoviedb.org/movie?page=69\n",
      " ---> a CSV file with name shows-page-69.csv has been created\n",
      "scraping page 70 :- https://www.themoviedb.org/movie?page=70\n",
      " ---> a CSV file with name shows-page-70.csv has been created\n",
      "scraping page 71 :- https://www.themoviedb.org/movie?page=71\n",
      " ---> a CSV file with name shows-page-71.csv has been created\n",
      "scraping page 72 :- https://www.themoviedb.org/movie?page=72\n",
      " ---> a CSV file with name shows-page-72.csv has been created\n",
      "scraping page 73 :- https://www.themoviedb.org/movie?page=73\n",
      " ---> a CSV file with name shows-page-73.csv has been created\n",
      "scraping page 74 :- https://www.themoviedb.org/movie?page=74\n",
      " ---> a CSV file with name shows-page-74.csv has been created\n",
      "scraping page 75 :- https://www.themoviedb.org/movie?page=75\n",
      " ---> a CSV file with name shows-page-75.csv has been created\n",
      "scraping page 76 :- https://www.themoviedb.org/movie?page=76\n",
      " ---> a CSV file with name shows-page-76.csv has been created\n",
      "scraping page 77 :- https://www.themoviedb.org/movie?page=77\n",
      " ---> a CSV file with name shows-page-77.csv has been created\n",
      "scraping page 78 :- https://www.themoviedb.org/movie?page=78\n",
      " ---> a CSV file with name shows-page-78.csv has been created\n",
      "scraping page 79 :- https://www.themoviedb.org/movie?page=79\n",
      " ---> a CSV file with name shows-page-79.csv has been created\n",
      "scraping page 80 :- https://www.themoviedb.org/movie?page=80\n",
      " ---> a CSV file with name shows-page-80.csv has been created\n",
      "scraping page 81 :- https://www.themoviedb.org/movie?page=81\n",
      " ---> a CSV file with name shows-page-81.csv has been created\n",
      "scraping page 82 :- https://www.themoviedb.org/movie?page=82\n",
      " ---> a CSV file with name shows-page-82.csv has been created\n",
      "scraping page 83 :- https://www.themoviedb.org/movie?page=83\n",
      " ---> a CSV file with name shows-page-83.csv has been created\n",
      "scraping page 84 :- https://www.themoviedb.org/movie?page=84\n",
      " ---> a CSV file with name shows-page-84.csv has been created\n",
      "scraping page 85 :- https://www.themoviedb.org/movie?page=85\n",
      " ---> a CSV file with name shows-page-85.csv has been created\n",
      "scraping page 86 :- https://www.themoviedb.org/movie?page=86\n",
      " ---> a CSV file with name shows-page-86.csv has been created\n",
      "scraping page 87 :- https://www.themoviedb.org/movie?page=87\n",
      " ---> a CSV file with name shows-page-87.csv has been created\n",
      "scraping page 88 :- https://www.themoviedb.org/movie?page=88\n",
      " ---> a CSV file with name shows-page-88.csv has been created\n",
      "scraping page 89 :- https://www.themoviedb.org/movie?page=89\n",
      " ---> a CSV file with name shows-page-89.csv has been created\n",
      "scraping page 90 :- https://www.themoviedb.org/movie?page=90\n",
      " ---> a CSV file with name shows-page-90.csv has been created\n",
      "scraping page 91 :- https://www.themoviedb.org/movie?page=91\n",
      " ---> a CSV file with name shows-page-91.csv has been created\n",
      "scraping page 92 :- https://www.themoviedb.org/movie?page=92\n",
      " ---> a CSV file with name shows-page-92.csv has been created\n",
      "scraping page 93 :- https://www.themoviedb.org/movie?page=93\n",
      " ---> a CSV file with name shows-page-93.csv has been created\n",
      "scraping page 94 :- https://www.themoviedb.org/movie?page=94\n",
      " ---> a CSV file with name shows-page-94.csv has been created\n",
      "scraping page 95 :- https://www.themoviedb.org/movie?page=95\n",
      " ---> a CSV file with name shows-page-95.csv has been created\n",
      "scraping page 96 :- https://www.themoviedb.org/movie?page=96\n",
      " ---> a CSV file with name shows-page-96.csv has been created\n",
      "scraping page 97 :- https://www.themoviedb.org/movie?page=97\n",
      " ---> a CSV file with name shows-page-97.csv has been created\n",
      "scraping page 98 :- https://www.themoviedb.org/movie?page=98\n",
      " ---> a CSV file with name shows-page-98.csv has been created\n",
      "scraping page 99 :- https://www.themoviedb.org/movie?page=99\n",
      " ---> a CSV file with name shows-page-99.csv has been created\n",
      "scraping page 100 :- https://www.themoviedb.org/movie?page=100\n",
      " ---> a CSV file with name shows-page-100.csv has been created\n",
      " \n",
      " a CSV file named Total-dataframe.csv with all the scraped shows has been created\n"
     ]
    }
   ],
   "source": [
    "scrape_top_1000_shows(base_link)\n"
   ]
  },
  {
   "cell_type": "code",
   "execution_count": 43,
   "id": "adea0e2c",
   "metadata": {},
   "outputs": [
    {
     "data": {
      "text/html": [
       "<div>\n",
       "<style scoped>\n",
       "    .dataframe tbody tr th:only-of-type {\n",
       "        vertical-align: middle;\n",
       "    }\n",
       "\n",
       "    .dataframe tbody tr th {\n",
       "        vertical-align: top;\n",
       "    }\n",
       "\n",
       "    .dataframe thead th {\n",
       "        text-align: right;\n",
       "    }\n",
       "</style>\n",
       "<table border=\"1\" class=\"dataframe\">\n",
       "  <thead>\n",
       "    <tr style=\"text-align: right;\">\n",
       "      <th></th>\n",
       "      <th>Title</th>\n",
       "      <th>User_rating</th>\n",
       "      <th>Release_date</th>\n",
       "      <th>Genre</th>\n",
       "      <th>Director</th>\n",
       "      <th>Cast</th>\n",
       "    </tr>\n",
       "  </thead>\n",
       "  <tbody>\n",
       "    <tr>\n",
       "      <th>0</th>\n",
       "      <td>Black Adam</td>\n",
       "      <td>73.0</td>\n",
       "      <td>Oct 19, 2022</td>\n",
       "      <td>['Action', 'Fantasy', 'Science Fiction']</td>\n",
       "      <td>[]</td>\n",
       "      <td>['Dwayne Johnson', 'Aldis Hodge', 'Noah Centin...</td>\n",
       "    </tr>\n",
       "    <tr>\n",
       "      <th>1</th>\n",
       "      <td>R.I.P.D. 2: Rise of the Damned</td>\n",
       "      <td>68.0</td>\n",
       "      <td>Nov 15, 2022</td>\n",
       "      <td>['Fantasy', 'Action', 'Comedy', 'Crime']</td>\n",
       "      <td>[]</td>\n",
       "      <td>['Jeffrey Donovan', 'Penelope Mitchell', 'Rich...</td>\n",
       "    </tr>\n",
       "    <tr>\n",
       "      <th>2</th>\n",
       "      <td>Paradise City</td>\n",
       "      <td>63.0</td>\n",
       "      <td>Nov 11, 2022</td>\n",
       "      <td>['Crime', 'Action', 'Thriller']</td>\n",
       "      <td>[]</td>\n",
       "      <td>['John Travolta', 'Bruce Willis', 'Blake Jenne...</td>\n",
       "    </tr>\n",
       "    <tr>\n",
       "      <th>3</th>\n",
       "      <td>Corrective Measures</td>\n",
       "      <td>50</td>\n",
       "      <td>Apr 29, 2022</td>\n",
       "      <td>['Science Fiction', 'Action']</td>\n",
       "      <td>[]</td>\n",
       "      <td>['Bruce Willis', 'Hayley Sales', 'Michael Rook...</td>\n",
       "    </tr>\n",
       "    <tr>\n",
       "      <th>4</th>\n",
       "      <td>Hex</td>\n",
       "      <td>43.0</td>\n",
       "      <td>Nov 01, 2022</td>\n",
       "      <td>['Action', 'Horror', 'Thriller']</td>\n",
       "      <td>[]</td>\n",
       "      <td>['Kayla Adams', 'Matthew Holcomb', 'Bryan Davi...</td>\n",
       "    </tr>\n",
       "    <tr>\n",
       "      <th>...</th>\n",
       "      <td>...</td>\n",
       "      <td>...</td>\n",
       "      <td>...</td>\n",
       "      <td>...</td>\n",
       "      <td>...</td>\n",
       "      <td>...</td>\n",
       "    </tr>\n",
       "    <tr>\n",
       "      <th>95</th>\n",
       "      <td>Batman and Superman: Battle of the Super Sons</td>\n",
       "      <td>80</td>\n",
       "      <td>Oct 17, 2022</td>\n",
       "      <td>['Animation', 'Action', 'Science Fiction']</td>\n",
       "      <td>[]</td>\n",
       "      <td>['Jack Dylan Grazer', 'Jack Griffo', 'Laura Ba...</td>\n",
       "    </tr>\n",
       "    <tr>\n",
       "      <th>96</th>\n",
       "      <td>Samaritan</td>\n",
       "      <td>69.0</td>\n",
       "      <td>Aug 25, 2022</td>\n",
       "      <td>['Action', 'Drama', 'Science Fiction']</td>\n",
       "      <td>[]</td>\n",
       "      <td>['Javon Walton', 'Sylvester Stallone', 'Dascha...</td>\n",
       "    </tr>\n",
       "    <tr>\n",
       "      <th>97</th>\n",
       "      <td>After Ever Happy</td>\n",
       "      <td>70</td>\n",
       "      <td>Aug 24, 2022</td>\n",
       "      <td>['Romance', 'Drama']</td>\n",
       "      <td>[]</td>\n",
       "      <td>['Josephine Langford', 'Hero Fiennes Tiffin', ...</td>\n",
       "    </tr>\n",
       "    <tr>\n",
       "      <th>98</th>\n",
       "      <td>The Addams Family</td>\n",
       "      <td>70</td>\n",
       "      <td>Nov 22, 1991</td>\n",
       "      <td>['Comedy', 'Fantasy']</td>\n",
       "      <td>[]</td>\n",
       "      <td>['Raúl Juliá', 'Anjelica Huston', 'Christopher...</td>\n",
       "    </tr>\n",
       "    <tr>\n",
       "      <th>99</th>\n",
       "      <td>Doctor Strange in the Multiverse of Madness</td>\n",
       "      <td>74.0</td>\n",
       "      <td>May 04, 2022</td>\n",
       "      <td>['Fantasy', 'Action', 'Adventure']</td>\n",
       "      <td>[]</td>\n",
       "      <td>['Benedict Cumberbatch', 'Elizabeth Olsen', 'C...</td>\n",
       "    </tr>\n",
       "  </tbody>\n",
       "</table>\n",
       "<p>100 rows × 6 columns</p>\n",
       "</div>"
      ],
      "text/plain": [
       "                                            Title User_rating  Release_date  \\\n",
       "0                                      Black Adam        73.0  Oct 19, 2022   \n",
       "1                  R.I.P.D. 2: Rise of the Damned        68.0  Nov 15, 2022   \n",
       "2                                   Paradise City        63.0  Nov 11, 2022   \n",
       "3                             Corrective Measures          50  Apr 29, 2022   \n",
       "4                                             Hex        43.0  Nov 01, 2022   \n",
       "..                                            ...         ...           ...   \n",
       "95  Batman and Superman: Battle of the Super Sons          80  Oct 17, 2022   \n",
       "96                                      Samaritan        69.0  Aug 25, 2022   \n",
       "97                               After Ever Happy          70  Aug 24, 2022   \n",
       "98                              The Addams Family          70  Nov 22, 1991   \n",
       "99    Doctor Strange in the Multiverse of Madness        74.0  May 04, 2022   \n",
       "\n",
       "                                         Genre Director  \\\n",
       "0     ['Action', 'Fantasy', 'Science Fiction']       []   \n",
       "1     ['Fantasy', 'Action', 'Comedy', 'Crime']       []   \n",
       "2              ['Crime', 'Action', 'Thriller']       []   \n",
       "3                ['Science Fiction', 'Action']       []   \n",
       "4             ['Action', 'Horror', 'Thriller']       []   \n",
       "..                                         ...      ...   \n",
       "95  ['Animation', 'Action', 'Science Fiction']       []   \n",
       "96      ['Action', 'Drama', 'Science Fiction']       []   \n",
       "97                        ['Romance', 'Drama']       []   \n",
       "98                       ['Comedy', 'Fantasy']       []   \n",
       "99          ['Fantasy', 'Action', 'Adventure']       []   \n",
       "\n",
       "                                                 Cast  \n",
       "0   ['Dwayne Johnson', 'Aldis Hodge', 'Noah Centin...  \n",
       "1   ['Jeffrey Donovan', 'Penelope Mitchell', 'Rich...  \n",
       "2   ['John Travolta', 'Bruce Willis', 'Blake Jenne...  \n",
       "3   ['Bruce Willis', 'Hayley Sales', 'Michael Rook...  \n",
       "4   ['Kayla Adams', 'Matthew Holcomb', 'Bryan Davi...  \n",
       "..                                                ...  \n",
       "95  ['Jack Dylan Grazer', 'Jack Griffo', 'Laura Ba...  \n",
       "96  ['Javon Walton', 'Sylvester Stallone', 'Dascha...  \n",
       "97  ['Josephine Langford', 'Hero Fiennes Tiffin', ...  \n",
       "98  ['Raúl Juliá', 'Anjelica Huston', 'Christopher...  \n",
       "99  ['Benedict Cumberbatch', 'Elizabeth Olsen', 'C...  \n",
       "\n",
       "[100 rows x 6 columns]"
      ]
     },
     "execution_count": 43,
     "metadata": {},
     "output_type": "execute_result"
    }
   ],
   "source": [
    "pd.read_csv('shows-data/Total-dataframe.csv')[0:100]"
   ]
  },
  {
   "cell_type": "code",
   "execution_count": 42,
   "id": "dcfd8e3a",
   "metadata": {},
   "outputs": [],
   "source": [
    "# Reading the csv file\n",
    "df_new = pd.read_csv('shows-data/Total-dataframe.csv')\n",
    " \n",
    "# saving xlsx file\n",
    "GFG = pd.ExcelWriter('Names.xlsx')\n",
    "df_new.to_excel(GFG, index=False)\n",
    " \n",
    "GFG.save()"
   ]
  },
  {
   "cell_type": "code",
   "execution_count": 43,
   "id": "dfc87153",
   "metadata": {},
   "outputs": [],
   "source": [
    "final = pd.ExcelWriter('GFG.xlsx')"
   ]
  }
 ],
 "metadata": {
  "kernelspec": {
   "display_name": "Python 3 (ipykernel)",
   "language": "python",
   "name": "python3"
  },
  "language_info": {
   "codemirror_mode": {
    "name": "ipython",
    "version": 3
   },
   "file_extension": ".py",
   "mimetype": "text/x-python",
   "name": "python",
   "nbconvert_exporter": "python",
   "pygments_lexer": "ipython3",
   "version": "3.9.12"
  }
 },
 "nbformat": 4,
 "nbformat_minor": 5
}
